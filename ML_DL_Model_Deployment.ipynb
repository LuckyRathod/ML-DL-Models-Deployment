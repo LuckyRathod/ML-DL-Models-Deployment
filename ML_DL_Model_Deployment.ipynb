{
 "cells": [
  {
   "cell_type": "markdown",
   "metadata": {},
   "source": [
    "### Deployment Architectures\n",
    "\n",
    "##### Process 1 - Expose Model as an API\n",
    "\n",
    "1. Do the Model Training and save Model with any of the following extensions (.pkl , .sav ,.pb ,.h5 ,.pt ,.pth , .tfjs)\n",
    "2. Host the Models in Server Side using Frameworks like Flask,Django,FastAPI and expose it as API\n",
    "3. This API Endpoint can be consumed by any Front End Application (Mobile App,Desktop App,Web App)\n",
    "4. You can also connect with databases (sql,NoSql,s3 Bucket,Blob) to save the output for data archival\n",
    "\n",
    "##### Process 2 - Deploying Models in Mobile (Offline Mode)\n",
    "\n",
    "1. Do the Model Training and save Model with any of the following extensions (.pkl , .sav ,.pb ,.h5 ,.pt ,.pth , .tfjs)\n",
    "2. Convert the Model to TFLite using Tensorflow API\n",
    "3. Now do Deployment of TFLite model using Android Studio\n",
    "4. Now you will be able to do the prediction , Once you give an Input Image  (Offline Mode)\n",
    "5. You can also connect with databases (sql,NoSql,s3 Bucket,Blob) to save the output for data archival"
   ]
  },
  {
   "cell_type": "markdown",
   "metadata": {},
   "source": [
    "### T1 Model Deployment - Premises vs IAAS vs PAAS\n",
    "\n",
    "Flask Framework will be used to Expose our Model as an API\n",
    "\n",
    "1. On Premises (Own Servers-Banks)\n",
    "You setup a complete server,you take care of  Application , Data , Runtime , MiddleWare   ,OS,Servers\n",
    "\n",
    "2. IAAS (Infrastructure as a Service) \n",
    "Eg (AWS (EC2 Instance),Azure) - We are responsible for Application,Data,Runtime,OS Servers,Storage,Networking is taken care by AWS/Azure\n",
    "                                        \n",
    "3. PAAS (Platform as a Service) \n",
    "Eg (Heroku) - We are responsible for Application,Data All other details are taken care by Heroku (Scaling , Runtime , OS , Servers ,Storage ,Networking)"
   ]
  },
  {
   "cell_type": "markdown",
   "metadata": {},
   "source": [
    "#### T2 Deployment of ML Model on Heroku (PAAS)\n",
    "\n",
    "See the practical Implementation\n",
    "\n",
    "#### T3 Deployment of NLP Model on Heroku (PAAS)\n",
    "\n",
    "See the practical Implementation on Local Repository\n",
    "\n",
    "#### T4 Deployment of ML Models on AWS (EC2 Instance) - IAAS\n",
    "\n",
    "1. Check your Flask Code\n",
    "2. Create AWS Account on AWS Management Console\n",
    "3. Create EC2 Instance (Choose an Instance Type --- Free Tier)\n",
    "   Whenever you create New Instance - Generate new key pair -- Download Key Pair (PEM File)\n",
    "4. Download Putty -- It helps you to connect to Ubuntu Server\n",
    "   Putty contains PuttyGen -- It Helps you to create Private Key from PEM File \n",
    "   This Private key helps you to Interact with AWS EC2 Instance\n",
    "5. WinSCP - Helps you to deploy your code in EC2 Intance\n",
    "   HostName -- Go to your Instance -- Connect -- SSH Client -- Public DNS\n",
    "   Username -- ubuntu\n",
    "   Password -- Advanced -- SSH -- Authentication -- Private Key (Choose File which was created by PuttyGen)\n",
    "   \n",
    "   Upload your Project\n",
    "   \n",
    "6. Now we need to Install Libraries -- Open Putty\n",
    "   Write mldemotest or any name in Saved Sessions\n",
    "   SSH -- Auth -- Upload Private key File -- Open\n",
    "   \n",
    "   Now we will start Installing Libraries\n",
    "   \n",
    "7. Write this before installing anything ---- sudo apt-get update && sudo apt-get install python3-pip \n",
    "\n",
    "8. Make this Instance accessible to everywhere \n",
    "   Network Security -- Security Groups -- Create Security Group \n",
    "   Choose GroupName and Description-- Inbound Groups -- Add Rule ---(Type -All Traffic , Source - Anywhere)\n",
    "   \n",
    "9. Now we will link about Security Group to EC2 Instance we have created\n",
    "   Select Current Network Interface -- Change Security Groups \n",
    "   In Associated Security Groups -- Search Your Security Group Name (FullAccess1) and Add -- Save \n",
    "   \n",
    "   Now in your Network Interface --- Security Groups -- You should see FullAccess1 and other Security Groups\n",
    "   (If you are not able to see , Toggle to old UI Version)\n",
    "   \n",
    "10. Go In Putty -- Install Requirements.txt\n",
    "    pip3 install -r requirements.txt\n",
    "    \n",
    "11. Now Run your Project --- python app.py\n",
    "\n",
    "12. Enter your hostnameFromDNSYouHave:8080 in web-browser\n",
    "   \n",
    "Completed."
   ]
  },
  {
   "cell_type": "markdown",
   "metadata": {},
   "source": [
    "### T5 : Deployment of ML Model on Google Cloud Platform\n",
    "\n",
    "1. Your Python File should be renamed as main.py\n",
    "2. app.yaml contains python version \n",
    "3. Create your GCP Account and activate free trail for 365 Days \n",
    "4. GCP Navigation Menu --IAM Admin -- Manage Resources -- Create New Project\n",
    "5. GCP Navigation Menu -- App Engine--Dashboard -- Select your Project from Top Menu\n",
    "\n",
    "Upload Your Project on GCP using Google SDK Installer --- \n",
    "https://dl.google.com/dl/cloudsdk/channels/rapid/GoogleCloudSDKInstaller.exe\n",
    "\n",
    "6. CD to your Project Directory in CMD --- Type Below Commmands :\n",
    "   > gcloud init\n",
    "   > If Prompted to select Numeric Choice select : \"Re-Initialize this configuration with new settings\" ---1\n",
    "   > Then Enter 2 for \"New Configuration\"\n",
    "   > Enter Configuration Name --- 1\n",
    "   > Choose your Account \n",
    "   > Choose your Project\n",
    "  \n",
    "7. Deploy your code : gcloud app deploy app.yaml --project ProjectName\n",
    "   > Select App Region --asia-south1\n",
    "   > URL Created\n",
    "   \n",
    "8. Navigation Menu -- App Engine -- Settings -- Disable Application"
   ]
  },
  {
   "cell_type": "code",
   "execution_count": null,
   "metadata": {},
   "outputs": [],
   "source": []
  }
 ],
 "metadata": {
  "kernelspec": {
   "display_name": "Python 3",
   "language": "python",
   "name": "python3"
  },
  "language_info": {
   "codemirror_mode": {
    "name": "ipython",
    "version": 3
   },
   "file_extension": ".py",
   "mimetype": "text/x-python",
   "name": "python",
   "nbconvert_exporter": "python",
   "pygments_lexer": "ipython3",
   "version": "3.7.9"
  }
 },
 "nbformat": 4,
 "nbformat_minor": 4
}
