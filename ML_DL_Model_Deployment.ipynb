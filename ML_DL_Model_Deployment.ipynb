{
 "cells": [
  {
   "cell_type": "markdown",
   "metadata": {},
   "source": [
    "### Deployment Architectures\n",
    "\n",
    "##### Process 1 - Expose Model as an API\n",
    "\n",
    "1. Do the Model Training and save Model with any of the following extensions (.pkl , .sav ,.pb ,.h5 ,.pt ,.pth , .tfjs)\n",
    "2. Host the Models in Server Side using Frameworks like Flask,Django,FastAPI and expose it as API\n",
    "3. This API Endpoint can be consumed by any Front End Application (Mobile App,Desktop App,Web App)\n",
    "4. You can also connect with databases (sql,NoSql,s3 Bucket,Blob) to save the output for data archival\n",
    "\n",
    "##### Process 2 - Deploying Models in Mobile (Offline Mode)\n",
    "\n",
    "1. Do the Model Training and save Model with any of the following extensions (.pkl , .sav ,.pb ,.h5 ,.pt ,.pth , .tfjs)\n",
    "2. Convert the Model to TFLite using Tensorflow API\n",
    "3. Now do Deployment of TFLite model using Android Studio\n",
    "4. Now you will be able to do the prediction , Once you give an Input Image  (Offline Mode)\n",
    "5. You can also connect with databases (sql,NoSql,s3 Bucket,Blob) to save the output for data archival"
   ]
  },
  {
   "cell_type": "markdown",
   "metadata": {},
   "source": [
    "### T1 Model Deployment - Premises vs IAAS vs PAAS\n",
    "\n",
    "Flask Framework will be used to Expose our Model as an API\n",
    "\n",
    "1. On Premises (Own Servers-Banks)\n",
    "You setup a complete server,you take care of  Application , Data , Runtime , MiddleWare   ,OS,Servers\n",
    "\n",
    "2. IAAS (Infrastructure as a Service) \n",
    "Eg (AWS (EC2 Instance),Azure) - We are responsible for Application,Data,Runtime,OS Servers,Storage,Networking is taken care by AWS/Azure\n",
    "                                        \n",
    "3. PAAS (Platform as a Service) \n",
    "Eg (Heroku) - We are responsible for Application,Data All other details are taken care by Heroku (Scaling , Runtime , OS , Servers ,Storage ,Networking)"
   ]
  },
  {
   "cell_type": "code",
   "execution_count": null,
   "metadata": {},
   "outputs": [],
   "source": []
  }
 ],
 "metadata": {
  "kernelspec": {
   "display_name": "Python 3",
   "language": "python",
   "name": "python3"
  },
  "language_info": {
   "codemirror_mode": {
    "name": "ipython",
    "version": 3
   },
   "file_extension": ".py",
   "mimetype": "text/x-python",
   "name": "python",
   "nbconvert_exporter": "python",
   "pygments_lexer": "ipython3",
   "version": "3.7.9"
  }
 },
 "nbformat": 4,
 "nbformat_minor": 4
}
